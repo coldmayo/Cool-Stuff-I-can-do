{
 "cells": [
  {
   "cell_type": "code",
   "execution_count": 19,
   "metadata": {},
   "outputs": [
    {
     "data": {
      "text/plain": [
       "7.6"
      ]
     },
     "execution_count": 19,
     "metadata": {},
     "output_type": "execute_result"
    }
   ],
   "source": [
    "#Photoelectric effect hv=K+W\n",
    "#E=hv, K=Kenetic Energy, W=Work Function(eV)\n",
    "def energyOfPhoton(metal, KenteticE):    \n",
    "    metal=metal.lower()\n",
    "    metalsToWorkF= {\n",
    "        \"gold\": 5.1,\n",
    "        \"silver\": 4.26,\n",
    "        \"aluminum\": 4.28,\n",
    "        \"chromium\": 4.5,\n",
    "        \"molybdenum\": 4.6,\n",
    "        \"nickel\": 5.15,\n",
    "        \"palladium\": 5.12\n",
    "    }   \n",
    "    wZero=metalsToWorkF.get(metal)\n",
    "    hv=KenteticE+wZero\n",
    "    return(hv)\n",
    "energyOfPhoton('MolYbdenum',3)"
   ]
  },
  {
   "cell_type": "code",
   "execution_count": 18,
   "metadata": {},
   "outputs": [
    {
     "data": {
      "text/plain": [
       "0.4864365200274652"
      ]
     },
     "execution_count": 18,
     "metadata": {},
     "output_type": "execute_result"
    }
   ],
   "source": [
    "#Wavelength shift from speed and wavelength\n",
    "#deltaLambda= Wavelength shift(nanometers), Lambda= Wavelength(nanometers), V= Velocity(m/s), C=Speed of light(m/s)\n",
    "def wavelengthShift(V, Lambda):\n",
    "    C=299792458\n",
    "    divis= V/C\n",
    "    deltaLambda=divis*Lambda\n",
    "    return(deltaLambda)\n",
    "wavelengthShift(300000, 486.1)"
   ]
  },
  {
   "cell_type": "code",
   "execution_count": 35,
   "metadata": {},
   "outputs": [
    {
     "data": {
      "text/plain": [
       "1.65651751e-34"
      ]
     },
     "execution_count": 35,
     "metadata": {},
     "output_type": "execute_result"
    }
   ],
   "source": [
    "#De Broglie wavelength equation\n",
    "#m=mass(electron rest mass/me), v=velocity(m/s), Lambda=wavelength(nm/nanometers)\n",
    "from scipy.constants import Planck\n",
    "def wavelengthEqu(m, v):\n",
    "    mult=m*v\n",
    "    Lambda=Planck/mult\n",
    "    return(Lambda)\n",
    "wavelengthEqu(2,2)"
   ]
  },
  {
   "cell_type": "code",
   "execution_count": 43,
   "metadata": {},
   "outputs": [
    {
     "data": {
      "text/plain": [
       "0.24305555555555552"
      ]
     },
     "execution_count": 43,
     "metadata": {},
     "output_type": "execute_result"
    }
   ],
   "source": [
    "#Rydberg Formula\n",
    "def RydbergFormula(n1, n2, E0):\n",
    "    uno=1/n1**2\n",
    "    dos=1/n2**2\n",
    "    par=uno-dos\n",
    "    E=E0*par\n",
    "    return(E)\n",
    "RydbergFormula(3, 4, 5)"
   ]
  }
 ],
 "metadata": {
  "kernelspec": {
   "display_name": "Python 3",
   "language": "python",
   "name": "python3"
  },
  "language_info": {
   "codemirror_mode": {
    "name": "ipython",
    "version": 3
   },
   "file_extension": ".py",
   "mimetype": "text/x-python",
   "name": "python",
   "nbconvert_exporter": "python",
   "pygments_lexer": "ipython3",
   "version": "3.7.4"
  }
 },
 "nbformat": 4,
 "nbformat_minor": 2
}
