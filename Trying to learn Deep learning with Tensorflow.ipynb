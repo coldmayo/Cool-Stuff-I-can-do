{
 "cells": [
  {
   "cell_type": "markdown",
   "metadata": {},
   "source": [
    "Me trying to learn deep learning with tensorflow"
   ]
  },
  {
   "cell_type": "code",
   "execution_count": 3,
   "metadata": {},
   "outputs": [],
   "source": [
    "from __future__ import absolute_import, division, print_function, unicode_literals\n",
    "import tensorflow as tf\n",
    "from tensorflow import keras\n",
    "\n",
    "!pip install -q tensorflow-datasets\n",
    "import tensorflow_datasets as tfds\n",
    "tfds.disable_progress_bar()\n",
    "\n",
    "import numpy as np"
   ]
  },
  {
   "cell_type": "code",
   "execution_count": 20,
   "metadata": {},
   "outputs": [],
   "source": [
    "#Dataset to be used\n",
    "#The dataset is basically a bunch of handwritten numbers\n",
    "mnist = tf.keras.datasets.mnist\n",
    "#x-train and x-test are appart of the training set and y-test and y-train are appart of the test set\n",
    "(x_train, y_train), (x_test, y_test) = mnist.load_data()\n",
    "x_train, x_test = x_train / 255.0, x_test / 255.0"
   ]
  },
  {
   "cell_type": "code",
   "execution_count": 37,
   "metadata": {},
   "outputs": [
    {
     "name": "stdout",
     "output_type": "stream",
     "text": [
      "Train on 60000 samples\n",
      "Epoch 1/5\n",
      "60000/60000 [==============================] - ETA: 13:53 - loss: 2.3682 - accuracy: 0.093 - ETA: 54s - loss: 1.9108 - accuracy: 0.3713  - ETA: 28s - loss: 1.5449 - accuracy: 0.545 - ETA: 20s - loss: 1.3048 - accuracy: 0.614 - ETA: 16s - loss: 1.1411 - accuracy: 0.670 - ETA: 13s - loss: 1.0220 - accuracy: 0.707 - ETA: 12s - loss: 0.9508 - accuracy: 0.725 - ETA: 11s - loss: 0.8850 - accuracy: 0.746 - ETA: 10s - loss: 0.8393 - accuracy: 0.758 - ETA: 9s - loss: 0.7975 - accuracy: 0.768 - ETA: 8s - loss: 0.7592 - accuracy: 0.78 - ETA: 8s - loss: 0.7267 - accuracy: 0.79 - ETA: 8s - loss: 0.7012 - accuracy: 0.79 - ETA: 7s - loss: 0.6789 - accuracy: 0.80 - ETA: 7s - loss: 0.6531 - accuracy: 0.80 - ETA: 7s - loss: 0.6345 - accuracy: 0.81 - ETA: 6s - loss: 0.6200 - accuracy: 0.82 - ETA: 6s - loss: 0.6052 - accuracy: 0.82 - ETA: 6s - loss: 0.5909 - accuracy: 0.82 - ETA: 6s - loss: 0.5782 - accuracy: 0.83 - ETA: 6s - loss: 0.5670 - accuracy: 0.83 - ETA: 6s - loss: 0.5570 - accuracy: 0.83 - ETA: 5s - loss: 0.5483 - accuracy: 0.84 - ETA: 5s - loss: 0.5409 - accuracy: 0.84 - ETA: 5s - loss: 0.5354 - accuracy: 0.84 - ETA: 5s - loss: 0.5275 - accuracy: 0.84 - ETA: 5s - loss: 0.5191 - accuracy: 0.84 - ETA: 5s - loss: 0.5117 - accuracy: 0.85 - ETA: 5s - loss: 0.5048 - accuracy: 0.85 - ETA: 5s - loss: 0.4978 - accuracy: 0.85 - ETA: 5s - loss: 0.4915 - accuracy: 0.85 - ETA: 5s - loss: 0.4840 - accuracy: 0.85 - ETA: 4s - loss: 0.4766 - accuracy: 0.86 - ETA: 4s - loss: 0.4696 - accuracy: 0.86 - ETA: 4s - loss: 0.4639 - accuracy: 0.86 - ETA: 4s - loss: 0.4583 - accuracy: 0.86 - ETA: 4s - loss: 0.4517 - accuracy: 0.86 - ETA: 4s - loss: 0.4464 - accuracy: 0.86 - ETA: 4s - loss: 0.4424 - accuracy: 0.87 - ETA: 4s - loss: 0.4373 - accuracy: 0.87 - ETA: 4s - loss: 0.4336 - accuracy: 0.87 - ETA: 4s - loss: 0.4295 - accuracy: 0.87 - ETA: 4s - loss: 0.4266 - accuracy: 0.87 - ETA: 4s - loss: 0.4227 - accuracy: 0.87 - ETA: 4s - loss: 0.4188 - accuracy: 0.87 - ETA: 3s - loss: 0.4154 - accuracy: 0.87 - ETA: 3s - loss: 0.4119 - accuracy: 0.87 - ETA: 3s - loss: 0.4081 - accuracy: 0.88 - ETA: 3s - loss: 0.4040 - accuracy: 0.88 - ETA: 3s - loss: 0.3999 - accuracy: 0.88 - ETA: 3s - loss: 0.3959 - accuracy: 0.88 - ETA: 3s - loss: 0.3914 - accuracy: 0.88 - ETA: 3s - loss: 0.3882 - accuracy: 0.88 - ETA: 3s - loss: 0.3865 - accuracy: 0.88 - ETA: 3s - loss: 0.3848 - accuracy: 0.88 - ETA: 3s - loss: 0.3818 - accuracy: 0.88 - ETA: 3s - loss: 0.3787 - accuracy: 0.88 - ETA: 3s - loss: 0.3765 - accuracy: 0.88 - ETA: 3s - loss: 0.3737 - accuracy: 0.89 - ETA: 2s - loss: 0.3709 - accuracy: 0.89 - ETA: 2s - loss: 0.3697 - accuracy: 0.89 - ETA: 2s - loss: 0.3670 - accuracy: 0.89 - ETA: 2s - loss: 0.3639 - accuracy: 0.89 - ETA: 2s - loss: 0.3615 - accuracy: 0.89 - ETA: 2s - loss: 0.3589 - accuracy: 0.89 - ETA: 2s - loss: 0.3574 - accuracy: 0.89 - ETA: 2s - loss: 0.3540 - accuracy: 0.89 - ETA: 2s - loss: 0.3518 - accuracy: 0.89 - ETA: 2s - loss: 0.3499 - accuracy: 0.89 - ETA: 2s - loss: 0.3476 - accuracy: 0.89 - ETA: 2s - loss: 0.3460 - accuracy: 0.89 - ETA: 2s - loss: 0.3439 - accuracy: 0.89 - ETA: 2s - loss: 0.3424 - accuracy: 0.89 - ETA: 1s - loss: 0.3404 - accuracy: 0.90 - ETA: 1s - loss: 0.3381 - accuracy: 0.90 - ETA: 1s - loss: 0.3364 - accuracy: 0.90 - ETA: 1s - loss: 0.3344 - accuracy: 0.90 - ETA: 1s - loss: 0.3327 - accuracy: 0.90 - ETA: 1s - loss: 0.3318 - accuracy: 0.90 - ETA: 1s - loss: 0.3298 - accuracy: 0.90 - ETA: 1s - loss: 0.3281 - accuracy: 0.90 - ETA: 1s - loss: 0.3264 - accuracy: 0.90 - ETA: 1s - loss: 0.3246 - accuracy: 0.90 - ETA: 1s - loss: 0.3231 - accuracy: 0.90 - ETA: 1s - loss: 0.3220 - accuracy: 0.90 - ETA: 1s - loss: 0.3202 - accuracy: 0.90 - ETA: 1s - loss: 0.3191 - accuracy: 0.90 - ETA: 1s - loss: 0.3173 - accuracy: 0.90 - ETA: 1s - loss: 0.3165 - accuracy: 0.90 - ETA: 0s - loss: 0.3153 - accuracy: 0.90 - ETA: 0s - loss: 0.3142 - accuracy: 0.90 - ETA: 0s - loss: 0.3127 - accuracy: 0.90 - ETA: 0s - loss: 0.3111 - accuracy: 0.90 - ETA: 0s - loss: 0.3096 - accuracy: 0.90 - ETA: 0s - loss: 0.3080 - accuracy: 0.90 - ETA: 0s - loss: 0.3065 - accuracy: 0.91 - ETA: 0s - loss: 0.3053 - accuracy: 0.91 - ETA: 0s - loss: 0.3037 - accuracy: 0.91 - ETA: 0s - loss: 0.3027 - accuracy: 0.91 - ETA: 0s - loss: 0.3016 - accuracy: 0.91 - ETA: 0s - loss: 0.3006 - accuracy: 0.91 - ETA: 0s - loss: 0.2997 - accuracy: 0.91 - ETA: 0s - loss: 0.2986 - accuracy: 0.91 - ETA: 0s - loss: 0.2979 - accuracy: 0.91 - ETA: 0s - loss: 0.2967 - accuracy: 0.91 - ETA: 0s - loss: 0.2955 - accuracy: 0.91 - 6s 99us/sample - loss: 0.2948 - accuracy: 0.9135\n",
      "Epoch 2/5\n"
     ]
    },
    {
     "name": "stdout",
     "output_type": "stream",
     "text": [
      "60000/60000 [==============================] - ETA: 9s - loss: 0.1886 - accuracy: 0.96 - ETA: 5s - loss: 0.1863 - accuracy: 0.94 - ETA: 5s - loss: 0.1630 - accuracy: 0.95 - ETA: 5s - loss: 0.1623 - accuracy: 0.95 - ETA: 5s - loss: 0.1623 - accuracy: 0.95 - ETA: 5s - loss: 0.1583 - accuracy: 0.95 - ETA: 5s - loss: 0.1585 - accuracy: 0.95 - ETA: 5s - loss: 0.1588 - accuracy: 0.95 - ETA: 5s - loss: 0.1561 - accuracy: 0.95 - ETA: 5s - loss: 0.1603 - accuracy: 0.95 - ETA: 4s - loss: 0.1568 - accuracy: 0.95 - ETA: 4s - loss: 0.1553 - accuracy: 0.95 - ETA: 4s - loss: 0.1544 - accuracy: 0.95 - ETA: 4s - loss: 0.1593 - accuracy: 0.95 - ETA: 4s - loss: 0.1594 - accuracy: 0.95 - ETA: 4s - loss: 0.1606 - accuracy: 0.95 - ETA: 4s - loss: 0.1604 - accuracy: 0.95 - ETA: 4s - loss: 0.1610 - accuracy: 0.95 - ETA: 4s - loss: 0.1609 - accuracy: 0.95 - ETA: 4s - loss: 0.1592 - accuracy: 0.95 - ETA: 4s - loss: 0.1589 - accuracy: 0.95 - ETA: 4s - loss: 0.1582 - accuracy: 0.95 - ETA: 4s - loss: 0.1584 - accuracy: 0.95 - ETA: 4s - loss: 0.1593 - accuracy: 0.95 - ETA: 4s - loss: 0.1601 - accuracy: 0.95 - ETA: 4s - loss: 0.1589 - accuracy: 0.95 - ETA: 4s - loss: 0.1580 - accuracy: 0.95 - ETA: 4s - loss: 0.1575 - accuracy: 0.95 - ETA: 4s - loss: 0.1572 - accuracy: 0.95 - ETA: 4s - loss: 0.1572 - accuracy: 0.95 - ETA: 4s - loss: 0.1575 - accuracy: 0.95 - ETA: 4s - loss: 0.1561 - accuracy: 0.95 - ETA: 4s - loss: 0.1559 - accuracy: 0.95 - ETA: 4s - loss: 0.1554 - accuracy: 0.95 - ETA: 4s - loss: 0.1555 - accuracy: 0.95 - ETA: 4s - loss: 0.1549 - accuracy: 0.95 - ETA: 4s - loss: 0.1544 - accuracy: 0.95 - ETA: 4s - loss: 0.1548 - accuracy: 0.95 - ETA: 4s - loss: 0.1541 - accuracy: 0.95 - ETA: 4s - loss: 0.1539 - accuracy: 0.95 - ETA: 4s - loss: 0.1538 - accuracy: 0.95 - ETA: 4s - loss: 0.1545 - accuracy: 0.95 - ETA: 4s - loss: 0.1542 - accuracy: 0.95 - ETA: 3s - loss: 0.1544 - accuracy: 0.95 - ETA: 3s - loss: 0.1542 - accuracy: 0.95 - ETA: 3s - loss: 0.1533 - accuracy: 0.95 - ETA: 3s - loss: 0.1536 - accuracy: 0.95 - ETA: 3s - loss: 0.1537 - accuracy: 0.95 - ETA: 3s - loss: 0.1533 - accuracy: 0.95 - ETA: 3s - loss: 0.1539 - accuracy: 0.95 - ETA: 3s - loss: 0.1539 - accuracy: 0.95 - ETA: 3s - loss: 0.1539 - accuracy: 0.95 - ETA: 3s - loss: 0.1533 - accuracy: 0.95 - ETA: 3s - loss: 0.1531 - accuracy: 0.95 - ETA: 3s - loss: 0.1537 - accuracy: 0.95 - ETA: 3s - loss: 0.1536 - accuracy: 0.95 - ETA: 3s - loss: 0.1540 - accuracy: 0.95 - ETA: 3s - loss: 0.1542 - accuracy: 0.95 - ETA: 3s - loss: 0.1540 - accuracy: 0.95 - ETA: 3s - loss: 0.1538 - accuracy: 0.95 - ETA: 3s - loss: 0.1541 - accuracy: 0.95 - ETA: 3s - loss: 0.1532 - accuracy: 0.95 - ETA: 2s - loss: 0.1530 - accuracy: 0.95 - ETA: 2s - loss: 0.1528 - accuracy: 0.95 - ETA: 2s - loss: 0.1525 - accuracy: 0.95 - ETA: 2s - loss: 0.1527 - accuracy: 0.95 - ETA: 2s - loss: 0.1523 - accuracy: 0.95 - ETA: 2s - loss: 0.1524 - accuracy: 0.95 - ETA: 2s - loss: 0.1524 - accuracy: 0.95 - ETA: 2s - loss: 0.1518 - accuracy: 0.95 - ETA: 2s - loss: 0.1510 - accuracy: 0.95 - ETA: 2s - loss: 0.1509 - accuracy: 0.95 - ETA: 2s - loss: 0.1504 - accuracy: 0.95 - ETA: 2s - loss: 0.1504 - accuracy: 0.95 - ETA: 2s - loss: 0.1502 - accuracy: 0.95 - ETA: 2s - loss: 0.1500 - accuracy: 0.95 - ETA: 2s - loss: 0.1492 - accuracy: 0.95 - ETA: 1s - loss: 0.1485 - accuracy: 0.95 - ETA: 1s - loss: 0.1491 - accuracy: 0.95 - ETA: 1s - loss: 0.1487 - accuracy: 0.95 - ETA: 1s - loss: 0.1481 - accuracy: 0.95 - ETA: 1s - loss: 0.1482 - accuracy: 0.95 - ETA: 1s - loss: 0.1483 - accuracy: 0.95 - ETA: 1s - loss: 0.1482 - accuracy: 0.95 - ETA: 1s - loss: 0.1475 - accuracy: 0.95 - ETA: 1s - loss: 0.1474 - accuracy: 0.95 - ETA: 1s - loss: 0.1474 - accuracy: 0.95 - ETA: 1s - loss: 0.1468 - accuracy: 0.95 - ETA: 1s - loss: 0.1463 - accuracy: 0.95 - ETA: 1s - loss: 0.1462 - accuracy: 0.95 - ETA: 1s - loss: 0.1460 - accuracy: 0.95 - ETA: 1s - loss: 0.1459 - accuracy: 0.95 - ETA: 1s - loss: 0.1457 - accuracy: 0.95 - ETA: 1s - loss: 0.1462 - accuracy: 0.95 - ETA: 0s - loss: 0.1461 - accuracy: 0.95 - ETA: 0s - loss: 0.1463 - accuracy: 0.95 - ETA: 0s - loss: 0.1458 - accuracy: 0.95 - ETA: 0s - loss: 0.1452 - accuracy: 0.95 - ETA: 0s - loss: 0.1452 - accuracy: 0.95 - ETA: 0s - loss: 0.1448 - accuracy: 0.95 - ETA: 0s - loss: 0.1448 - accuracy: 0.95 - ETA: 0s - loss: 0.1447 - accuracy: 0.95 - ETA: 0s - loss: 0.1443 - accuracy: 0.95 - ETA: 0s - loss: 0.1446 - accuracy: 0.95 - ETA: 0s - loss: 0.1444 - accuracy: 0.95 - ETA: 0s - loss: 0.1438 - accuracy: 0.95 - ETA: 0s - loss: 0.1441 - accuracy: 0.95 - ETA: 0s - loss: 0.1439 - accuracy: 0.95 - ETA: 0s - loss: 0.1437 - accuracy: 0.95 - ETA: 0s - loss: 0.1436 - accuracy: 0.95 - ETA: 0s - loss: 0.1439 - accuracy: 0.95 - 6s 95us/sample - loss: 0.1437 - accuracy: 0.9568\n",
      "Epoch 3/5\n"
     ]
    },
    {
     "name": "stdout",
     "output_type": "stream",
     "text": [
      "60000/60000 [==============================] - ETA: 11s - loss: 0.3190 - accuracy: 0.937 - ETA: 5s - loss: 0.1060 - accuracy: 0.968 - ETA: 5s - loss: 0.1286 - accuracy: 0.96 - ETA: 5s - loss: 0.1306 - accuracy: 0.96 - ETA: 4s - loss: 0.1210 - accuracy: 0.96 - ETA: 4s - loss: 0.1159 - accuracy: 0.97 - ETA: 4s - loss: 0.1150 - accuracy: 0.96 - ETA: 4s - loss: 0.1103 - accuracy: 0.97 - ETA: 4s - loss: 0.1048 - accuracy: 0.97 - ETA: 4s - loss: 0.1068 - accuracy: 0.97 - ETA: 4s - loss: 0.1050 - accuracy: 0.97 - ETA: 4s - loss: 0.1083 - accuracy: 0.96 - ETA: 4s - loss: 0.1091 - accuracy: 0.96 - ETA: 4s - loss: 0.1122 - accuracy: 0.96 - ETA: 4s - loss: 0.1125 - accuracy: 0.96 - ETA: 4s - loss: 0.1124 - accuracy: 0.96 - ETA: 4s - loss: 0.1097 - accuracy: 0.96 - ETA: 4s - loss: 0.1096 - accuracy: 0.96 - ETA: 4s - loss: 0.1115 - accuracy: 0.96 - ETA: 4s - loss: 0.1113 - accuracy: 0.96 - ETA: 4s - loss: 0.1108 - accuracy: 0.96 - ETA: 3s - loss: 0.1103 - accuracy: 0.96 - ETA: 3s - loss: 0.1083 - accuracy: 0.96 - ETA: 3s - loss: 0.1063 - accuracy: 0.96 - ETA: 3s - loss: 0.1051 - accuracy: 0.96 - ETA: 3s - loss: 0.1063 - accuracy: 0.96 - ETA: 3s - loss: 0.1070 - accuracy: 0.96 - ETA: 3s - loss: 0.1080 - accuracy: 0.96 - ETA: 3s - loss: 0.1073 - accuracy: 0.96 - ETA: 3s - loss: 0.1072 - accuracy: 0.96 - ETA: 3s - loss: 0.1079 - accuracy: 0.96 - ETA: 3s - loss: 0.1075 - accuracy: 0.96 - ETA: 3s - loss: 0.1077 - accuracy: 0.96 - ETA: 3s - loss: 0.1088 - accuracy: 0.96 - ETA: 3s - loss: 0.1089 - accuracy: 0.96 - ETA: 3s - loss: 0.1089 - accuracy: 0.96 - ETA: 3s - loss: 0.1087 - accuracy: 0.96 - ETA: 3s - loss: 0.1093 - accuracy: 0.96 - ETA: 3s - loss: 0.1094 - accuracy: 0.96 - ETA: 2s - loss: 0.1105 - accuracy: 0.96 - ETA: 2s - loss: 0.1111 - accuracy: 0.96 - ETA: 2s - loss: 0.1112 - accuracy: 0.96 - ETA: 2s - loss: 0.1108 - accuracy: 0.96 - ETA: 2s - loss: 0.1107 - accuracy: 0.96 - ETA: 2s - loss: 0.1100 - accuracy: 0.96 - ETA: 2s - loss: 0.1094 - accuracy: 0.96 - ETA: 2s - loss: 0.1092 - accuracy: 0.96 - ETA: 2s - loss: 0.1103 - accuracy: 0.96 - ETA: 2s - loss: 0.1105 - accuracy: 0.96 - ETA: 2s - loss: 0.1102 - accuracy: 0.96 - ETA: 2s - loss: 0.1098 - accuracy: 0.96 - ETA: 2s - loss: 0.1101 - accuracy: 0.96 - ETA: 2s - loss: 0.1100 - accuracy: 0.96 - ETA: 2s - loss: 0.1101 - accuracy: 0.96 - ETA: 2s - loss: 0.1102 - accuracy: 0.96 - ETA: 2s - loss: 0.1098 - accuracy: 0.96 - ETA: 2s - loss: 0.1098 - accuracy: 0.96 - ETA: 2s - loss: 0.1095 - accuracy: 0.96 - ETA: 2s - loss: 0.1090 - accuracy: 0.96 - ETA: 1s - loss: 0.1095 - accuracy: 0.96 - ETA: 1s - loss: 0.1092 - accuracy: 0.96 - ETA: 1s - loss: 0.1089 - accuracy: 0.96 - ETA: 1s - loss: 0.1090 - accuracy: 0.96 - ETA: 1s - loss: 0.1086 - accuracy: 0.96 - ETA: 1s - loss: 0.1085 - accuracy: 0.96 - ETA: 1s - loss: 0.1086 - accuracy: 0.96 - ETA: 1s - loss: 0.1083 - accuracy: 0.96 - ETA: 1s - loss: 0.1085 - accuracy: 0.96 - ETA: 1s - loss: 0.1079 - accuracy: 0.96 - ETA: 1s - loss: 0.1080 - accuracy: 0.96 - ETA: 1s - loss: 0.1079 - accuracy: 0.96 - ETA: 1s - loss: 0.1077 - accuracy: 0.96 - ETA: 1s - loss: 0.1074 - accuracy: 0.96 - ETA: 1s - loss: 0.1073 - accuracy: 0.96 - ETA: 1s - loss: 0.1076 - accuracy: 0.96 - ETA: 1s - loss: 0.1079 - accuracy: 0.96 - ETA: 1s - loss: 0.1079 - accuracy: 0.96 - ETA: 1s - loss: 0.1074 - accuracy: 0.96 - ETA: 0s - loss: 0.1073 - accuracy: 0.96 - ETA: 0s - loss: 0.1073 - accuracy: 0.96 - ETA: 0s - loss: 0.1072 - accuracy: 0.96 - ETA: 0s - loss: 0.1073 - accuracy: 0.96 - ETA: 0s - loss: 0.1070 - accuracy: 0.96 - ETA: 0s - loss: 0.1072 - accuracy: 0.96 - ETA: 0s - loss: 0.1077 - accuracy: 0.96 - ETA: 0s - loss: 0.1076 - accuracy: 0.96 - ETA: 0s - loss: 0.1076 - accuracy: 0.96 - ETA: 0s - loss: 0.1075 - accuracy: 0.96 - ETA: 0s - loss: 0.1076 - accuracy: 0.96 - ETA: 0s - loss: 0.1077 - accuracy: 0.96 - ETA: 0s - loss: 0.1072 - accuracy: 0.96 - ETA: 0s - loss: 0.1070 - accuracy: 0.96 - ETA: 0s - loss: 0.1068 - accuracy: 0.96 - ETA: 0s - loss: 0.1066 - accuracy: 0.96 - ETA: 0s - loss: 0.1065 - accuracy: 0.96 - ETA: 0s - loss: 0.1064 - accuracy: 0.96 - 5s 82us/sample - loss: 0.1067 - accuracy: 0.9679\n",
      "Epoch 4/5\n"
     ]
    },
    {
     "name": "stdout",
     "output_type": "stream",
     "text": [
      "60000/60000 [==============================] - ETA: 9s - loss: 0.1221 - accuracy: 0.93 - ETA: 5s - loss: 0.0946 - accuracy: 0.97 - ETA: 4s - loss: 0.0781 - accuracy: 0.97 - ETA: 4s - loss: 0.0791 - accuracy: 0.97 - ETA: 4s - loss: 0.0840 - accuracy: 0.97 - ETA: 4s - loss: 0.0857 - accuracy: 0.97 - ETA: 4s - loss: 0.0880 - accuracy: 0.97 - ETA: 4s - loss: 0.0862 - accuracy: 0.97 - ETA: 4s - loss: 0.0820 - accuracy: 0.97 - ETA: 4s - loss: 0.0820 - accuracy: 0.97 - ETA: 4s - loss: 0.0834 - accuracy: 0.97 - ETA: 4s - loss: 0.0829 - accuracy: 0.97 - ETA: 4s - loss: 0.0834 - accuracy: 0.97 - ETA: 4s - loss: 0.0831 - accuracy: 0.97 - ETA: 4s - loss: 0.0849 - accuracy: 0.97 - ETA: 4s - loss: 0.0844 - accuracy: 0.97 - ETA: 3s - loss: 0.0837 - accuracy: 0.97 - ETA: 3s - loss: 0.0846 - accuracy: 0.97 - ETA: 3s - loss: 0.0851 - accuracy: 0.97 - ETA: 3s - loss: 0.0852 - accuracy: 0.97 - ETA: 3s - loss: 0.0847 - accuracy: 0.97 - ETA: 3s - loss: 0.0859 - accuracy: 0.97 - ETA: 3s - loss: 0.0855 - accuracy: 0.97 - ETA: 3s - loss: 0.0866 - accuracy: 0.97 - ETA: 3s - loss: 0.0863 - accuracy: 0.97 - ETA: 3s - loss: 0.0863 - accuracy: 0.97 - ETA: 3s - loss: 0.0868 - accuracy: 0.97 - ETA: 3s - loss: 0.0864 - accuracy: 0.97 - ETA: 3s - loss: 0.0866 - accuracy: 0.97 - ETA: 3s - loss: 0.0856 - accuracy: 0.97 - ETA: 3s - loss: 0.0849 - accuracy: 0.97 - ETA: 3s - loss: 0.0840 - accuracy: 0.97 - ETA: 3s - loss: 0.0843 - accuracy: 0.97 - ETA: 3s - loss: 0.0840 - accuracy: 0.97 - ETA: 3s - loss: 0.0838 - accuracy: 0.97 - ETA: 3s - loss: 0.0838 - accuracy: 0.97 - ETA: 3s - loss: 0.0832 - accuracy: 0.97 - ETA: 3s - loss: 0.0848 - accuracy: 0.97 - ETA: 2s - loss: 0.0844 - accuracy: 0.97 - ETA: 2s - loss: 0.0843 - accuracy: 0.97 - ETA: 2s - loss: 0.0844 - accuracy: 0.97 - ETA: 2s - loss: 0.0839 - accuracy: 0.97 - ETA: 2s - loss: 0.0838 - accuracy: 0.97 - ETA: 2s - loss: 0.0839 - accuracy: 0.97 - ETA: 2s - loss: 0.0840 - accuracy: 0.97 - ETA: 2s - loss: 0.0843 - accuracy: 0.97 - ETA: 2s - loss: 0.0844 - accuracy: 0.97 - ETA: 2s - loss: 0.0846 - accuracy: 0.97 - ETA: 2s - loss: 0.0845 - accuracy: 0.97 - ETA: 2s - loss: 0.0844 - accuracy: 0.97 - ETA: 2s - loss: 0.0840 - accuracy: 0.97 - ETA: 2s - loss: 0.0842 - accuracy: 0.97 - ETA: 2s - loss: 0.0846 - accuracy: 0.97 - ETA: 2s - loss: 0.0852 - accuracy: 0.97 - ETA: 2s - loss: 0.0854 - accuracy: 0.97 - ETA: 2s - loss: 0.0852 - accuracy: 0.97 - ETA: 2s - loss: 0.0852 - accuracy: 0.97 - ETA: 2s - loss: 0.0850 - accuracy: 0.97 - ETA: 2s - loss: 0.0851 - accuracy: 0.97 - ETA: 1s - loss: 0.0851 - accuracy: 0.97 - ETA: 1s - loss: 0.0847 - accuracy: 0.97 - ETA: 1s - loss: 0.0845 - accuracy: 0.97 - ETA: 1s - loss: 0.0844 - accuracy: 0.97 - ETA: 1s - loss: 0.0846 - accuracy: 0.97 - ETA: 1s - loss: 0.0845 - accuracy: 0.97 - ETA: 1s - loss: 0.0847 - accuracy: 0.97 - ETA: 1s - loss: 0.0852 - accuracy: 0.97 - ETA: 1s - loss: 0.0852 - accuracy: 0.97 - ETA: 1s - loss: 0.0856 - accuracy: 0.97 - ETA: 1s - loss: 0.0857 - accuracy: 0.97 - ETA: 1s - loss: 0.0858 - accuracy: 0.97 - ETA: 1s - loss: 0.0860 - accuracy: 0.97 - ETA: 1s - loss: 0.0860 - accuracy: 0.97 - ETA: 1s - loss: 0.0861 - accuracy: 0.97 - ETA: 1s - loss: 0.0861 - accuracy: 0.97 - ETA: 1s - loss: 0.0865 - accuracy: 0.97 - ETA: 1s - loss: 0.0865 - accuracy: 0.97 - ETA: 1s - loss: 0.0866 - accuracy: 0.97 - ETA: 1s - loss: 0.0867 - accuracy: 0.97 - ETA: 1s - loss: 0.0867 - accuracy: 0.97 - ETA: 0s - loss: 0.0869 - accuracy: 0.97 - ETA: 0s - loss: 0.0869 - accuracy: 0.97 - ETA: 0s - loss: 0.0868 - accuracy: 0.97 - ETA: 0s - loss: 0.0869 - accuracy: 0.97 - ETA: 0s - loss: 0.0867 - accuracy: 0.97 - ETA: 0s - loss: 0.0867 - accuracy: 0.97 - ETA: 0s - loss: 0.0872 - accuracy: 0.97 - ETA: 0s - loss: 0.0876 - accuracy: 0.97 - ETA: 0s - loss: 0.0882 - accuracy: 0.97 - ETA: 0s - loss: 0.0879 - accuracy: 0.97 - ETA: 0s - loss: 0.0881 - accuracy: 0.97 - ETA: 0s - loss: 0.0880 - accuracy: 0.97 - ETA: 0s - loss: 0.0882 - accuracy: 0.97 - ETA: 0s - loss: 0.0884 - accuracy: 0.97 - ETA: 0s - loss: 0.0883 - accuracy: 0.97 - ETA: 0s - loss: 0.0883 - accuracy: 0.97 - ETA: 0s - loss: 0.0881 - accuracy: 0.97 - ETA: 0s - loss: 0.0881 - accuracy: 0.97 - 5s 84us/sample - loss: 0.0882 - accuracy: 0.9730\n",
      "Epoch 5/5\n"
     ]
    },
    {
     "name": "stdout",
     "output_type": "stream",
     "text": [
      "60000/60000 [==============================] - ETA: 7s - loss: 0.0087 - accuracy: 1.00 - ETA: 4s - loss: 0.0572 - accuracy: 0.98 - ETA: 4s - loss: 0.0609 - accuracy: 0.97 - ETA: 4s - loss: 0.0617 - accuracy: 0.97 - ETA: 4s - loss: 0.0702 - accuracy: 0.97 - ETA: 4s - loss: 0.0708 - accuracy: 0.97 - ETA: 4s - loss: 0.0690 - accuracy: 0.97 - ETA: 4s - loss: 0.0676 - accuracy: 0.97 - ETA: 4s - loss: 0.0697 - accuracy: 0.97 - ETA: 4s - loss: 0.0693 - accuracy: 0.97 - ETA: 4s - loss: 0.0694 - accuracy: 0.97 - ETA: 4s - loss: 0.0695 - accuracy: 0.97 - ETA: 4s - loss: 0.0685 - accuracy: 0.97 - ETA: 4s - loss: 0.0693 - accuracy: 0.97 - ETA: 4s - loss: 0.0691 - accuracy: 0.97 - ETA: 4s - loss: 0.0691 - accuracy: 0.97 - ETA: 4s - loss: 0.0685 - accuracy: 0.97 - ETA: 3s - loss: 0.0682 - accuracy: 0.97 - ETA: 3s - loss: 0.0674 - accuracy: 0.97 - ETA: 3s - loss: 0.0677 - accuracy: 0.97 - ETA: 3s - loss: 0.0686 - accuracy: 0.97 - ETA: 3s - loss: 0.0686 - accuracy: 0.97 - ETA: 3s - loss: 0.0673 - accuracy: 0.97 - ETA: 3s - loss: 0.0673 - accuracy: 0.97 - ETA: 3s - loss: 0.0671 - accuracy: 0.97 - ETA: 3s - loss: 0.0666 - accuracy: 0.97 - ETA: 3s - loss: 0.0663 - accuracy: 0.97 - ETA: 3s - loss: 0.0667 - accuracy: 0.97 - ETA: 3s - loss: 0.0667 - accuracy: 0.97 - ETA: 3s - loss: 0.0662 - accuracy: 0.97 - ETA: 3s - loss: 0.0663 - accuracy: 0.97 - ETA: 3s - loss: 0.0665 - accuracy: 0.97 - ETA: 3s - loss: 0.0671 - accuracy: 0.97 - ETA: 3s - loss: 0.0678 - accuracy: 0.97 - ETA: 3s - loss: 0.0679 - accuracy: 0.97 - ETA: 3s - loss: 0.0677 - accuracy: 0.97 - ETA: 3s - loss: 0.0677 - accuracy: 0.97 - ETA: 3s - loss: 0.0676 - accuracy: 0.97 - ETA: 3s - loss: 0.0684 - accuracy: 0.97 - ETA: 3s - loss: 0.0686 - accuracy: 0.97 - ETA: 3s - loss: 0.0694 - accuracy: 0.97 - ETA: 3s - loss: 0.0699 - accuracy: 0.97 - ETA: 3s - loss: 0.0692 - accuracy: 0.97 - ETA: 3s - loss: 0.0698 - accuracy: 0.97 - ETA: 2s - loss: 0.0698 - accuracy: 0.97 - ETA: 2s - loss: 0.0705 - accuracy: 0.97 - ETA: 2s - loss: 0.0709 - accuracy: 0.97 - ETA: 2s - loss: 0.0719 - accuracy: 0.97 - ETA: 2s - loss: 0.0720 - accuracy: 0.97 - ETA: 2s - loss: 0.0723 - accuracy: 0.97 - ETA: 2s - loss: 0.0725 - accuracy: 0.97 - ETA: 2s - loss: 0.0725 - accuracy: 0.97 - ETA: 2s - loss: 0.0724 - accuracy: 0.97 - ETA: 2s - loss: 0.0730 - accuracy: 0.97 - ETA: 2s - loss: 0.0733 - accuracy: 0.97 - ETA: 2s - loss: 0.0731 - accuracy: 0.97 - ETA: 2s - loss: 0.0731 - accuracy: 0.97 - ETA: 2s - loss: 0.0729 - accuracy: 0.97 - ETA: 2s - loss: 0.0725 - accuracy: 0.97 - ETA: 2s - loss: 0.0723 - accuracy: 0.97 - ETA: 2s - loss: 0.0728 - accuracy: 0.97 - ETA: 2s - loss: 0.0725 - accuracy: 0.97 - ETA: 2s - loss: 0.0731 - accuracy: 0.97 - ETA: 2s - loss: 0.0739 - accuracy: 0.97 - ETA: 1s - loss: 0.0737 - accuracy: 0.97 - ETA: 1s - loss: 0.0736 - accuracy: 0.97 - ETA: 1s - loss: 0.0736 - accuracy: 0.97 - ETA: 1s - loss: 0.0738 - accuracy: 0.97 - ETA: 1s - loss: 0.0739 - accuracy: 0.97 - ETA: 1s - loss: 0.0740 - accuracy: 0.97 - ETA: 1s - loss: 0.0738 - accuracy: 0.97 - ETA: 1s - loss: 0.0744 - accuracy: 0.97 - ETA: 1s - loss: 0.0746 - accuracy: 0.97 - ETA: 1s - loss: 0.0747 - accuracy: 0.97 - ETA: 1s - loss: 0.0748 - accuracy: 0.97 - ETA: 1s - loss: 0.0748 - accuracy: 0.97 - ETA: 1s - loss: 0.0749 - accuracy: 0.97 - ETA: 1s - loss: 0.0750 - accuracy: 0.97 - ETA: 1s - loss: 0.0755 - accuracy: 0.97 - ETA: 1s - loss: 0.0754 - accuracy: 0.97 - ETA: 1s - loss: 0.0752 - accuracy: 0.97 - ETA: 1s - loss: 0.0753 - accuracy: 0.97 - ETA: 0s - loss: 0.0754 - accuracy: 0.97 - ETA: 0s - loss: 0.0753 - accuracy: 0.97 - ETA: 0s - loss: 0.0751 - accuracy: 0.97 - ETA: 0s - loss: 0.0750 - accuracy: 0.97 - ETA: 0s - loss: 0.0748 - accuracy: 0.97 - ETA: 0s - loss: 0.0748 - accuracy: 0.97 - ETA: 0s - loss: 0.0750 - accuracy: 0.97 - ETA: 0s - loss: 0.0752 - accuracy: 0.97 - ETA: 0s - loss: 0.0751 - accuracy: 0.97 - ETA: 0s - loss: 0.0749 - accuracy: 0.97 - ETA: 0s - loss: 0.0748 - accuracy: 0.97 - ETA: 0s - loss: 0.0747 - accuracy: 0.97 - ETA: 0s - loss: 0.0755 - accuracy: 0.97 - ETA: 0s - loss: 0.0752 - accuracy: 0.97 - ETA: 0s - loss: 0.0751 - accuracy: 0.97 - ETA: 0s - loss: 0.0752 - accuracy: 0.97 - ETA: 0s - loss: 0.0754 - accuracy: 0.97 - ETA: 0s - loss: 0.0752 - accuracy: 0.97 - 5s 86us/sample - loss: 0.0754 - accuracy: 0.9765\n",
      "10000/1 - 1s - loss: 0.0376 - accuracy: 0.9773\n"
     ]
    },
    {
     "data": {
      "text/plain": [
       "[0.07306932950122282, 0.9773]"
      ]
     },
     "execution_count": 37,
     "metadata": {},
     "output_type": "execute_result"
    }
   ],
   "source": [
    "#One epoch is the time step that is incremented every time it has went through all the samples in the training set.\n",
    "model = tf.keras.models.Sequential([\n",
    "  tf.keras.layers.Flatten(input_shape=(28, 28)),\n",
    "  tf.keras.layers.Dense(128, activation='relu'),\n",
    "  tf.keras.layers.Dropout(0.2),\n",
    "  tf.keras.layers.Dense(10, activation='softmax')\n",
    "])\n",
    "\n",
    "model.compile(optimizer='adam',\n",
    "              loss='sparse_categorical_crossentropy',\n",
    "              metrics=['accuracy'])\n",
    "history=model.fit(x_train, y_train, epochs=5)\n",
    "\n",
    "model.evaluate(x_test,  y_test, verbose=2)"
   ]
  },
  {
   "cell_type": "code",
   "execution_count": 10,
   "metadata": {},
   "outputs": [
    {
     "name": "stdout",
     "output_type": "stream",
     "text": [
      "[7 2 1 ... 4 5 6]\n"
     ]
    }
   ],
   "source": [
    "#Computer's prediction\n",
    "print(y_test)"
   ]
  },
  {
   "cell_type": "markdown",
   "metadata": {},
   "source": [
    "This is me trying to figure out how predictive models work"
   ]
  },
  {
   "cell_type": "code",
   "execution_count": 23,
   "metadata": {},
   "outputs": [
    {
     "data": {
      "text/html": [
       "<div>\n",
       "<style scoped>\n",
       "    .dataframe tbody tr th:only-of-type {\n",
       "        vertical-align: middle;\n",
       "    }\n",
       "\n",
       "    .dataframe tbody tr th {\n",
       "        vertical-align: top;\n",
       "    }\n",
       "\n",
       "    .dataframe thead th {\n",
       "        text-align: right;\n",
       "    }\n",
       "</style>\n",
       "<table border=\"1\" class=\"dataframe\">\n",
       "  <thead>\n",
       "    <tr style=\"text-align: right;\">\n",
       "      <th></th>\n",
       "      <th>lengthinfeet</th>\n",
       "      <th>weightintons</th>\n",
       "      <th>speedmph</th>\n",
       "      <th>biteforcenewtons</th>\n",
       "      <th>Species</th>\n",
       "    </tr>\n",
       "  </thead>\n",
       "  <tbody>\n",
       "    <tr>\n",
       "      <td>0</td>\n",
       "      <td>40.0</td>\n",
       "      <td>7.00</td>\n",
       "      <td>18.0</td>\n",
       "      <td>57000</td>\n",
       "      <td>0</td>\n",
       "    </tr>\n",
       "    <tr>\n",
       "      <td>1</td>\n",
       "      <td>21.0</td>\n",
       "      <td>60.00</td>\n",
       "      <td>20.0</td>\n",
       "      <td>182000</td>\n",
       "      <td>1</td>\n",
       "    </tr>\n",
       "    <tr>\n",
       "      <td>2</td>\n",
       "      <td>43.0</td>\n",
       "      <td>8.60</td>\n",
       "      <td>31.0</td>\n",
       "      <td>3340</td>\n",
       "      <td>2</td>\n",
       "    </tr>\n",
       "    <tr>\n",
       "      <td>3</td>\n",
       "      <td>42.6</td>\n",
       "      <td>9.75</td>\n",
       "      <td>17.0</td>\n",
       "      <td>56900</td>\n",
       "      <td>0</td>\n",
       "    </tr>\n",
       "    <tr>\n",
       "      <td>4</td>\n",
       "      <td>44.0</td>\n",
       "      <td>50.00</td>\n",
       "      <td>19.0</td>\n",
       "      <td>156001</td>\n",
       "      <td>1</td>\n",
       "    </tr>\n",
       "  </tbody>\n",
       "</table>\n",
       "</div>"
      ],
      "text/plain": [
       "   lengthinfeet  weightintons  speedmph  biteforcenewtons  Species\n",
       "0          40.0          7.00      18.0             57000        0\n",
       "1          21.0         60.00      20.0            182000        1\n",
       "2          43.0          8.60      31.0              3340        2\n",
       "3          42.6          9.75      17.0             56900        0\n",
       "4          44.0         50.00      19.0            156001        1"
      ]
     },
     "execution_count": 23,
     "metadata": {},
     "output_type": "execute_result"
    }
   ],
   "source": [
    "import pandas as pd\n",
    "#use one-word names for columns or it will give you an error\n",
    "CSV_COLUMN_NAMES = ['lengthinfeet', 'weightintons', 'speedmph', 'biteforcenewtons', 'Species']\n",
    "SPECIES = ['T-rex', 'Megalodon', 'Giganotosaurus']\n",
    "#Make sure the \n",
    "train = pd.read_csv('Dino_train.csv', names=CSV_COLUMN_NAMES, skipinitialspace=True, skiprows=1, engine=\"python\")\n",
    "test = pd.read_csv('Dino_test.csv', names=CSV_COLUMN_NAMES, skipinitialspace=True, skiprows=1, engine=\"python\")\n",
    "train.head()"
   ]
  },
  {
   "cell_type": "code",
   "execution_count": 24,
   "metadata": {},
   "outputs": [
    {
     "name": "stdout",
     "output_type": "stream",
     "text": [
      "INFO:tensorflow:Using default config.\n",
      "WARNING:tensorflow:Using temporary folder as model directory: C:\\Users\\WALLAC~1\\AppData\\Local\\Temp\\tmpwebh17ut\n",
      "INFO:tensorflow:Using config: {'_model_dir': 'C:\\\\Users\\\\WALLAC~1\\\\AppData\\\\Local\\\\Temp\\\\tmpwebh17ut', '_tf_random_seed': None, '_save_summary_steps': 100, '_save_checkpoints_steps': None, '_save_checkpoints_secs': 600, '_session_config': allow_soft_placement: true\n",
      "graph_options {\n",
      "  rewrite_options {\n",
      "    meta_optimizer_iterations: ONE\n",
      "  }\n",
      "}\n",
      ", '_keep_checkpoint_max': 5, '_keep_checkpoint_every_n_hours': 10000, '_log_step_count_steps': 100, '_train_distribute': None, '_device_fn': None, '_protocol': None, '_eval_distribute': None, '_experimental_distribute': None, '_experimental_max_worker_delay_secs': None, '_session_creation_timeout_secs': 7200, '_service': None, '_cluster_spec': <tensorflow.python.training.server_lib.ClusterSpec object at 0x000001B7FF370F48>, '_task_type': 'worker', '_task_id': 0, '_global_id_in_cluster': 0, '_master': '', '_evaluation_master': '', '_is_chief': True, '_num_ps_replicas': 0, '_num_worker_replicas': 1}\n"
     ]
    }
   ],
   "source": [
    "train_y = train.pop('Species')\n",
    "test_y = test.pop('Species')\n",
    "\n",
    "def input_evaluation_set():\n",
    "    features = {'lengthinfeet': np.array([40.0, 21.0]),\n",
    "                'weightintons':  np.array([7.00, 60.00]),\n",
    "                'speedmph': np.array([18.0, 20.0]),\n",
    "                'biteforcenewtons':  np.array([57000, 182000])}\n",
    "    labels = np.array([2, 1])\n",
    "    return features, labels\n",
    "def input_fn(features, labels, training=True, batch_size=256):\n",
    "    \"\"\"An input function for training or evaluating\"\"\"\n",
    "    # Convert the inputs to a Dataset.\n",
    "    dataset = tf.data.Dataset.from_tensor_slices((dict(features), labels))\n",
    "\n",
    "    # Shuffle and repeat if you are in training mode.\n",
    "    if training:\n",
    "        dataset = dataset.shuffle(1000).repeat()\n",
    "    \n",
    "    return dataset.batch(batch_size)\n",
    "\n",
    "# Feature columns describe how to use the input.\n",
    "my_feature_columns = []\n",
    "for key in train.keys():\n",
    "    my_feature_columns.append(tf.feature_column.numeric_column(key=key))\n",
    "classifier = tf.estimator.DNNClassifier(\n",
    "    feature_columns=my_feature_columns,\n",
    "    # Two hidden layers of 30 and 10 nodes respectively.\n",
    "    hidden_units=[30, 10],\n",
    "    # The model must choose between 3 classes.\n",
    "    n_classes=3)"
   ]
  },
  {
   "cell_type": "code",
   "execution_count": 25,
   "metadata": {},
   "outputs": [
    {
     "name": "stdout",
     "output_type": "stream",
     "text": [
      "INFO:tensorflow:Calling model_fn.\n",
      "WARNING:tensorflow:Layer dnn is casting an input tensor from dtype float64 to the layer's dtype of float32, which is new behavior in TensorFlow 2.  The layer has dtype float32 because it's dtype defaults to floatx.\n",
      "\n",
      "If you intended to run this layer in float32, you can safely ignore this warning. If in doubt, this warning is likely only an issue if you are porting a TensorFlow 1.X model to TensorFlow 2.\n",
      "\n",
      "To change all layers to have dtype float64 by default, call `tf.keras.backend.set_floatx('float64')`. To change just this layer, pass dtype='float64' to the layer constructor. If you are the author of this layer, you can disable autocasting by passing autocast=False to the base Layer constructor.\n",
      "\n",
      "INFO:tensorflow:Done calling model_fn.\n",
      "INFO:tensorflow:Create CheckpointSaverHook.\n",
      "INFO:tensorflow:Graph was finalized.\n",
      "INFO:tensorflow:Running local_init_op.\n",
      "INFO:tensorflow:Done running local_init_op.\n",
      "INFO:tensorflow:Saving checkpoints for 0 into C:\\Users\\WALLAC~1\\AppData\\Local\\Temp\\tmpwebh17ut\\model.ckpt.\n",
      "INFO:tensorflow:loss = 15699.132, step = 0\n",
      "INFO:tensorflow:global_step/sec: 273.999\n",
      "INFO:tensorflow:loss = 15.522938, step = 100 (0.366 sec)\n",
      "INFO:tensorflow:global_step/sec: 484.66\n",
      "INFO:tensorflow:loss = 16.750416, step = 200 (0.207 sec)\n",
      "INFO:tensorflow:global_step/sec: 489.109\n",
      "INFO:tensorflow:loss = 18.80822, step = 300 (0.204 sec)\n",
      "INFO:tensorflow:global_step/sec: 501.339\n",
      "INFO:tensorflow:loss = 10.030792, step = 400 (0.198 sec)\n",
      "INFO:tensorflow:global_step/sec: 498.838\n",
      "INFO:tensorflow:loss = 6.8990088, step = 500 (0.200 sec)\n",
      "INFO:tensorflow:global_step/sec: 501.342\n",
      "INFO:tensorflow:loss = 14.522602, step = 600 (0.200 sec)\n",
      "INFO:tensorflow:global_step/sec: 491.508\n",
      "INFO:tensorflow:loss = 5.9752846, step = 700 (0.203 sec)\n",
      "INFO:tensorflow:global_step/sec: 493.928\n",
      "INFO:tensorflow:loss = 5.338814, step = 800 (0.202 sec)\n",
      "INFO:tensorflow:global_step/sec: 503.732\n",
      "INFO:tensorflow:loss = 9.79402, step = 900 (0.197 sec)\n",
      "INFO:tensorflow:global_step/sec: 501.462\n",
      "INFO:tensorflow:loss = 5.0665016, step = 1000 (0.199 sec)\n",
      "INFO:tensorflow:global_step/sec: 501.337\n",
      "INFO:tensorflow:loss = 4.662503, step = 1100 (0.199 sec)\n",
      "INFO:tensorflow:global_step/sec: 506.402\n",
      "INFO:tensorflow:loss = 3.796965, step = 1200 (0.198 sec)\n",
      "INFO:tensorflow:global_step/sec: 493.925\n",
      "INFO:tensorflow:loss = 3.6830566, step = 1300 (0.201 sec)\n",
      "INFO:tensorflow:global_step/sec: 489.108\n",
      "INFO:tensorflow:loss = 9.20999, step = 1400 (0.205 sec)\n",
      "INFO:tensorflow:global_step/sec: 489.113\n",
      "INFO:tensorflow:loss = 3.7848644, step = 1500 (0.205 sec)\n",
      "INFO:tensorflow:global_step/sec: 397.888\n",
      "INFO:tensorflow:loss = 2.4678545, step = 1600 (0.251 sec)\n",
      "INFO:tensorflow:global_step/sec: 393.204\n",
      "INFO:tensorflow:loss = 2.1902509, step = 1700 (0.253 sec)\n",
      "INFO:tensorflow:global_step/sec: 345.128\n",
      "INFO:tensorflow:loss = 1.998354, step = 1800 (0.291 sec)\n",
      "INFO:tensorflow:global_step/sec: 412.623\n",
      "INFO:tensorflow:loss = 4.454052, step = 1900 (0.240 sec)\n",
      "INFO:tensorflow:global_step/sec: 527.583\n",
      "INFO:tensorflow:loss = 1.304955, step = 2000 (0.188 sec)\n",
      "INFO:tensorflow:global_step/sec: 446.558\n",
      "INFO:tensorflow:loss = 1.3400729, step = 2100 (0.227 sec)\n",
      "INFO:tensorflow:global_step/sec: 486.104\n",
      "INFO:tensorflow:loss = 1.2738206, step = 2200 (0.206 sec)\n",
      "INFO:tensorflow:global_step/sec: 493.934\n",
      "INFO:tensorflow:loss = 0.69274807, step = 2300 (0.202 sec)\n",
      "INFO:tensorflow:global_step/sec: 493.929\n",
      "INFO:tensorflow:loss = 0.7554461, step = 2400 (0.202 sec)\n",
      "INFO:tensorflow:global_step/sec: 493.928\n",
      "INFO:tensorflow:loss = 0.66821986, step = 2500 (0.202 sec)\n",
      "INFO:tensorflow:global_step/sec: 489.107\n",
      "INFO:tensorflow:loss = 0.36972407, step = 2600 (0.204 sec)\n",
      "INFO:tensorflow:global_step/sec: 486.738\n",
      "INFO:tensorflow:loss = 0.31927714, step = 2700 (0.205 sec)\n",
      "INFO:tensorflow:global_step/sec: 491.497\n",
      "INFO:tensorflow:loss = 0.2713769, step = 2800 (0.203 sec)\n",
      "INFO:tensorflow:global_step/sec: 501.345\n",
      "INFO:tensorflow:loss = 0.23028946, step = 2900 (0.199 sec)\n",
      "INFO:tensorflow:global_step/sec: 493.932\n",
      "INFO:tensorflow:loss = 1.039796, step = 3000 (0.201 sec)\n",
      "INFO:tensorflow:global_step/sec: 501.339\n",
      "INFO:tensorflow:loss = 0.17720377, step = 3100 (0.200 sec)\n",
      "INFO:tensorflow:global_step/sec: 489.109\n",
      "INFO:tensorflow:loss = 0.16494, step = 3200 (0.204 sec)\n",
      "INFO:tensorflow:global_step/sec: 496.371\n",
      "INFO:tensorflow:loss = 0.14788234, step = 3300 (0.200 sec)\n",
      "INFO:tensorflow:global_step/sec: 501.341\n",
      "INFO:tensorflow:loss = 0.14482364, step = 3400 (0.200 sec)\n",
      "INFO:tensorflow:global_step/sec: 493.929\n",
      "INFO:tensorflow:loss = 0.13300592, step = 3500 (0.202 sec)\n",
      "INFO:tensorflow:global_step/sec: 489.108\n",
      "INFO:tensorflow:loss = 0.12348532, step = 3600 (0.203 sec)\n",
      "INFO:tensorflow:global_step/sec: 496.372\n",
      "INFO:tensorflow:loss = 0.11446107, step = 3700 (0.201 sec)\n",
      "INFO:tensorflow:global_step/sec: 526.555\n",
      "INFO:tensorflow:loss = 0.11229396, step = 3800 (0.188 sec)\n",
      "INFO:tensorflow:global_step/sec: 500.037\n",
      "INFO:tensorflow:loss = 0.10629128, step = 3900 (0.200 sec)\n",
      "INFO:tensorflow:global_step/sec: 453.701\n",
      "INFO:tensorflow:loss = 0.100282006, step = 4000 (0.223 sec)\n",
      "INFO:tensorflow:global_step/sec: 549.809\n",
      "INFO:tensorflow:loss = 0.091291636, step = 4100 (0.194 sec)\n",
      "INFO:tensorflow:global_step/sec: 438.364\n",
      "INFO:tensorflow:loss = 0.087677546, step = 4200 (0.217 sec)\n",
      "INFO:tensorflow:global_step/sec: 486.733\n",
      "INFO:tensorflow:loss = 0.08420022, step = 4300 (0.204 sec)\n",
      "INFO:tensorflow:global_step/sec: 496.376\n",
      "INFO:tensorflow:loss = 0.08442772, step = 4400 (0.201 sec)\n",
      "INFO:tensorflow:global_step/sec: 475.122\n",
      "INFO:tensorflow:loss = 0.07890192, step = 4500 (0.212 sec)\n",
      "INFO:tensorflow:global_step/sec: 409.31\n",
      "INFO:tensorflow:loss = 0.0735071, step = 4600 (0.241 sec)\n",
      "INFO:tensorflow:global_step/sec: 514.198\n",
      "INFO:tensorflow:loss = 0.07132228, step = 4700 (0.195 sec)\n",
      "INFO:tensorflow:global_step/sec: 459.944\n",
      "INFO:tensorflow:loss = 0.069217294, step = 4800 (0.217 sec)\n",
      "INFO:tensorflow:global_step/sec: 491.503\n",
      "INFO:tensorflow:loss = 0.06912634, step = 4900 (0.202 sec)\n",
      "INFO:tensorflow:Saving checkpoints for 5000 into C:\\Users\\WALLAC~1\\AppData\\Local\\Temp\\tmpwebh17ut\\model.ckpt.\n",
      "INFO:tensorflow:Loss for final step: 0.064096905.\n",
      "INFO:tensorflow:Calling model_fn.\n",
      "WARNING:tensorflow:Layer dnn is casting an input tensor from dtype float64 to the layer's dtype of float32, which is new behavior in TensorFlow 2.  The layer has dtype float32 because it's dtype defaults to floatx.\n",
      "\n",
      "If you intended to run this layer in float32, you can safely ignore this warning. If in doubt, this warning is likely only an issue if you are porting a TensorFlow 1.X model to TensorFlow 2.\n",
      "\n",
      "To change all layers to have dtype float64 by default, call `tf.keras.backend.set_floatx('float64')`. To change just this layer, pass dtype='float64' to the layer constructor. If you are the author of this layer, you can disable autocasting by passing autocast=False to the base Layer constructor.\n",
      "\n",
      "INFO:tensorflow:Done calling model_fn.\n",
      "INFO:tensorflow:Starting evaluation at 2020-01-09T21:03:59Z\n",
      "INFO:tensorflow:Graph was finalized.\n",
      "INFO:tensorflow:Restoring parameters from C:\\Users\\WALLAC~1\\AppData\\Local\\Temp\\tmpwebh17ut\\model.ckpt-5000\n",
      "INFO:tensorflow:Running local_init_op.\n",
      "INFO:tensorflow:Done running local_init_op.\n",
      "INFO:tensorflow:Finished evaluation at 2020-01-09-21:03:59\n",
      "INFO:tensorflow:Saving dict for global step 5000: accuracy = 1.0, average_loss = 0.06271482, global_step = 5000, loss = 0.06271482\n",
      "INFO:tensorflow:Saving 'checkpoint_path' summary for global step 5000: C:\\Users\\WALLAC~1\\AppData\\Local\\Temp\\tmpwebh17ut\\model.ckpt-5000\n",
      "\n",
      "Test set accuracy: 1.000\n",
      "\n"
     ]
    }
   ],
   "source": [
    "# Train the Model.\n",
    "classifier.train(\n",
    "    input_fn=lambda: input_fn(train, train_y, training=True),\n",
    "    steps=5000)\n",
    "\n",
    "eval_result = classifier.evaluate(\n",
    "input_fn=lambda: input_fn(test, test_y, training=False))\n",
    "\n",
    "print('\\nTest set accuracy: {accuracy:0.3f}\\n'.format(**eval_result))\n"
   ]
  },
  {
   "cell_type": "code",
   "execution_count": 61,
   "metadata": {},
   "outputs": [
    {
     "name": "stdout",
     "output_type": "stream",
     "text": [
      "INFO:tensorflow:Calling model_fn.\n",
      "INFO:tensorflow:Done calling model_fn.\n",
      "INFO:tensorflow:Graph was finalized.\n",
      "INFO:tensorflow:Restoring parameters from C:\\Users\\WALLAC~1\\AppData\\Local\\Temp\\tmpwebh17ut\\model.ckpt-5000\n",
      "INFO:tensorflow:Running local_init_op.\n",
      "INFO:tensorflow:Done running local_init_op.\n",
      "Prediction is \"T-rex\" (92.3%), expected \"T-rex\"\n",
      "Prediction is \"Megalodon\" (99.6%), expected \"Megalodon\"\n",
      "Prediction is \"Giganotosaurus\" (99.5%), expected \"Giganotosaurus\"\n"
     ]
    }
   ],
   "source": [
    "# Generate predictions from the model\n",
    "expected = ['T-rex', 'Megalodon', 'Giganotosaurus']\n",
    "predict_x = {\n",
    "    'lengthinfeet': [41.5, 23, 44],\n",
    "    'weightintons': [7.1, 59.3, 8.4],\n",
    "    'speedmph': [18.6, 20.6, 30],\n",
    "    'biteforcenewtons': [57023, 182023, 3342],\n",
    "}\n",
    "\n",
    "def input_fn(features, batch_size=256):\n",
    "    \"\"\"An input function for prediction.\"\"\"\n",
    "    # Convert the inputs to a Dataset without labels.\n",
    "    return tf.data.Dataset.from_tensor_slices(dict(features)).batch(batch_size)\n",
    "ar=[]\n",
    "xpec=[]\n",
    "predictions = classifier.predict(\n",
    "    input_fn=lambda: input_fn(predict_x))\n",
    "for pred_dict, expec in zip(predictions, expected):\n",
    "    class_id = pred_dict['class_ids'][0]\n",
    "    probability = pred_dict['probabilities'][class_id]\n",
    "\n",
    "    print('Prediction is \"{}\" ({:.1f}%), expected \"{}\"'.format(\n",
    "        SPECIES[class_id], 100 * probability, expec))\n",
    "    ar.append(probability*100)\n",
    "    xpec.append(expec)"
   ]
  },
  {
   "cell_type": "code",
   "execution_count": 55,
   "metadata": {},
   "outputs": [
    {
     "name": "stdout",
     "output_type": "stream",
     "text": [
      "[92.28587746620178, 99.63579773902893, 99.47457313537598]\n"
     ]
    }
   ],
   "source": [
    "print(ar)"
   ]
  },
  {
   "cell_type": "code",
   "execution_count": 63,
   "metadata": {},
   "outputs": [
    {
     "data": {
      "image/png": "[encoded data removed]",
      "text/plain": [
       "<Figure size 1296x360 with 1 Axes>"
      ]
     },
     "metadata": {
      "needs_background": "light"
     },
     "output_type": "display_data"
    }
   ],
   "source": [
    "import matplotlib.pyplot as plt\n",
    "\n",
    "objects = ('T-rex, expected:\"{}\"'.format(xpec[0]), 'Megalodon, expected:\"{}\"'.format(xpec[1]), 'Giganotosaurus, expected:\"{}\"'.format(xpec[2]))\n",
    "y_pos = np.arange(len(objects))\n",
    "plt.rcParams[\"figure.figsize\"] = (18,5)\n",
    "plt.bar(y_pos, ar, align='center', alpha=1)\n",
    "plt.xticks(y_pos, objects)\n",
    "plt.xlabel('Speices')\n",
    "plt.ylabel('Confidence precentage')\n",
    "plt.title('Predictions of the Classification model')\n",
    "plt.show()"
   ]
  },
  {
   "cell_type": "code",
   "execution_count": null,
   "metadata": {},
   "outputs": [],
   "source": []
  }
 ],
 "metadata": {
  "kernelspec": {
   "display_name": "Python 3",
   "language": "python",
   "name": "python3"
  },
  "language_info": {
   "codemirror_mode": {
    "name": "ipython",
    "version": 3
   },
   "file_extension": ".py",
   "mimetype": "text/x-python",
   "name": "python",
   "nbconvert_exporter": "python",
   "pygments_lexer": "ipython3",
   "version": "3.7.4"
  }
 },
 "nbformat": 4,
 "nbformat_minor": 2
}
